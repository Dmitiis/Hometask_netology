{
 "cells": [
  {
   "cell_type": "markdown",
   "metadata": {},
   "source": [
    "# Задание1"
   ]
  },
  {
   "cell_type": "code",
   "execution_count": 1,
   "metadata": {},
   "outputs": [
    {
     "name": "stdout",
     "output_type": "stream",
     "text": [
      "True\n"
     ]
    }
   ],
   "source": [
    "\n",
    "long_phrase = 'Насколько проще было бы писать программы, если бы не заказчики'\n",
    "short_phrase = '640Кб должно хватить для любых задач. Билл Гейтс (по легенде)'\n",
    "\n",
    "long =  len(long_phrase)\n",
    "\n",
    "short = len(short_phrase)\n",
    "\n",
    "print(long > short)"
   ]
  },
  {
   "cell_type": "markdown",
   "metadata": {},
   "source": [
    "# Задание2"
   ]
  },
  {
   "cell_type": "code",
   "execution_count": 2,
   "metadata": {},
   "outputs": [
    {
     "name": "stdout",
     "output_type": "stream",
     "text": [
      "Введите число в байтах: 444444\n",
      "Объем файла равен  0.424 Mb\n"
     ]
    }
   ],
   "source": [
    "n = int(input(\"Введите число в байтах: \"))\n",
    "\n",
    "print(\"Объем файла равен \", round(n/1024/1024,3), \"Mb\")\n"
   ]
  },
  {
   "cell_type": "markdown",
   "metadata": {},
   "source": [
    "# Задание3"
   ]
  },
  {
   "cell_type": "code",
   "execution_count": 3,
   "metadata": {},
   "outputs": [
    {
     "name": "stdout",
     "output_type": "stream",
     "text": [
      "Введите день рождения: 5\n",
      "Введите месяц рождения:  Ноябрь\n",
      "На этом пока все! :)\n"
     ]
    }
   ],
   "source": [
    "number = int(input(\"Введите день рождения: \"))\n",
    "month = input(\"Введите месяц рождения: \")\n",
    "\n",
    "\n",
    "if (number >= 22 and month in \"Декабрь\") or (number <= 19 and month in \"Январь\"):\n",
    "    print(\"Козерог\")\n",
    "elif (number >= 20 and month in \"Январь\") or (number <= 19 and month in \"Февраль\"):\n",
    "    print(\"Водолей\")\n",
    "elif (number >= 20 and month in \"Февраль\") or (number <= 21 and month in \"Март\"):\n",
    "    print(\"Рыба\")\n",
    "elif (number >= 22 and month in \"Март\") or (number <= 21 and month in \"Апрель\"):\n",
    "    print(\"Овен\")\n",
    "elif (number >= 22 and month in \"Апрель\") or (number <= 21 and month in \"Май\"):\n",
    "    print(\"Телец\")\n",
    "elif (number >= 22 and month in \"Май\") or (number <= 21 and month in \"Июнь\"):\n",
    "    print(\"Близнецы\")\n",
    "elif (number >= 22 and month in \"Июнь\") or (number <= 21 and month in \"Июль\"):\n",
    "    print(\"Рак\")\n",
    "elif (number >= 22 and month in \"Июль\") or (number <= 21 and month in \"Август\"):\n",
    "    print(\"Лев\")\n",
    "elif (number >= 22 and month in \"Август\") or (number <= 21 and month in \"Сентябрь\"):\n",
    "    print(\"Дева\")\n",
    "elif (number >= 22 and month in \"Сентябрь\") or (number <= 21 and month in \"Октябрь\"):\n",
    "    print(\"Весы\")\n",
    "elif (number >= 22 and month in \"Октябрь\") or (number <= 20 and month in \"Ноябрь\"):\n",
    "    print(\"Скорпион\")\n",
    "elif (number >= 21 and month in \"Ноябрь\") or (number <= 21 and month in \"Декабрь\"):\n",
    "    print(\"Стрелец\")\n",
    "    \n",
    "print('На этом пока все! :)')"
   ]
  },
  {
   "cell_type": "markdown",
   "metadata": {},
   "source": [
    "#  Задание4"
   ]
  },
  {
   "cell_type": "code",
   "execution_count": 4,
   "metadata": {},
   "outputs": [
    {
     "name": "stdout",
     "output_type": "stream",
     "text": [
      "Введите ЗП в месяц: 5\n",
      "Сколько процентов на ипотеку?: 5\n",
      "Сколько процентов на эту прекрасную жизнь?: 5\n",
      "Сколько раз премия в год: 5\n",
      "На ипотеку ушло в год  3 рублей На старость 66\n"
     ]
    }
   ],
   "source": [
    "gross = int(input('Введите ЗП в месяц: '))\n",
    "persent_mortgage = int(input('Сколько процентов на ипотеку?: '))\n",
    "persent_live = int(input('Сколько процентов на эту прекрасную жизнь?: '))\n",
    "profit = int(input('Сколько раз премия в год: '))\n",
    "\n",
    "t = gross * 12\n",
    "ip= round((gross * persent_mortgage / 100 ) * 12)\n",
    "live = round((gross * persent_live / 100) * 12)\n",
    "bonus = (profit * gross) / 2\n",
    "\n",
    "print('На ипотеку ушло в год ',ip, 'рублей', 'На старость', round(t - ip - live + bonus ))"
   ]
  },
  {
   "cell_type": "code",
   "execution_count": null,
   "metadata": {},
   "outputs": [],
   "source": []
  }
 ],
 "metadata": {
  "kernelspec": {
   "display_name": "Python 3",
   "language": "python",
   "name": "python3"
  },
  "language_info": {
   "codemirror_mode": {
    "name": "ipython",
    "version": 3
   },
   "file_extension": ".py",
   "mimetype": "text/x-python",
   "name": "python",
   "nbconvert_exporter": "python",
   "pygments_lexer": "ipython3",
   "version": "3.7.6"
  }
 },
 "nbformat": 4,
 "nbformat_minor": 4
}
